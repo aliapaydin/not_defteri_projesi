{
 "cells": [
  {
   "cell_type": "markdown",
   "metadata": {},
   "source": [
    "# KULLANICI İŞLEMLERİ"
   ]
  },
  {
   "cell_type": "code",
   "execution_count": 3,
   "metadata": {},
   "outputs": [],
   "source": [
    "from not_defteri import notlar\n",
    "\n",
    "from not_defteri import kullanici"
   ]
  },
  {
   "cell_type": "code",
   "execution_count": 6,
   "metadata": {},
   "outputs": [
    {
     "name": "stdout",
     "output_type": "stream",
     "text": [
      "Ali Apaydin adlı kullanıcı başarıyla kaydedildi.\n"
     ]
    }
   ],
   "source": [
    "kullanici.kayit_ol(\"Ali Apaydin\", \"1234\")"
   ]
  },
  {
   "cell_type": "code",
   "execution_count": 8,
   "metadata": {},
   "outputs": [
    {
     "name": "stdout",
     "output_type": "stream",
     "text": [
      "Oturum açma başarısız. Kullanıcı adı veya şifre yanlış.\n"
     ]
    },
    {
     "data": {
      "text/plain": [
       "False"
      ]
     },
     "execution_count": 8,
     "metadata": {},
     "output_type": "execute_result"
    }
   ],
   "source": [
    "kullanici.oturum_ac(\"Ali Apaydin\", \"2345\")"
   ]
  },
  {
   "cell_type": "code",
   "execution_count": 9,
   "metadata": {},
   "outputs": [
    {
     "name": "stdout",
     "output_type": "stream",
     "text": [
      "Ali Apaydin adlı kullanıcı oturum açtı.\n"
     ]
    },
    {
     "data": {
      "text/plain": [
       "True"
      ]
     },
     "execution_count": 9,
     "metadata": {},
     "output_type": "execute_result"
    }
   ],
   "source": [
    "kullanici.oturum_ac(\"Ali Apaydin\", \"1234\")"
   ]
  },
  {
   "cell_type": "code",
   "execution_count": 10,
   "metadata": {},
   "outputs": [
    {
     "name": "stdout",
     "output_type": "stream",
     "text": [
      "Kullanıcı oturum açmamış durumda.\n"
     ]
    },
    {
     "data": {
      "text/plain": [
       "False"
      ]
     },
     "execution_count": 10,
     "metadata": {},
     "output_type": "execute_result"
    }
   ],
   "source": [
    "kullanici.kullanici_kontrol()"
   ]
  },
  {
   "cell_type": "code",
   "execution_count": 11,
   "metadata": {},
   "outputs": [
    {
     "name": "stdout",
     "output_type": "stream",
     "text": [
      "Oturum kapatıldı.\n"
     ]
    }
   ],
   "source": [
    "kullanici.oturumu_kapat()"
   ]
  },
  {
   "cell_type": "code",
   "execution_count": 12,
   "metadata": {},
   "outputs": [
    {
     "name": "stdout",
     "output_type": "stream",
     "text": [
      "Kullanıcı oturum açmamış durumda.\n"
     ]
    },
    {
     "data": {
      "text/plain": [
       "False"
      ]
     },
     "execution_count": 12,
     "metadata": {},
     "output_type": "execute_result"
    }
   ],
   "source": [
    "kullanici.kullanici_kontrol()"
   ]
  },
  {
   "cell_type": "code",
   "execution_count": 13,
   "metadata": {},
   "outputs": [
    {
     "name": "stdout",
     "output_type": "stream",
     "text": [
      "Miray Apaydin adlı kullanıcı başarıyla kaydedildi.\n"
     ]
    }
   ],
   "source": [
    "kullanici.kayit_ol(\"Miray Apaydin\", \"5789\")"
   ]
  },
  {
   "cell_type": "code",
   "execution_count": 14,
   "metadata": {},
   "outputs": [
    {
     "name": "stdout",
     "output_type": "stream",
     "text": [
      "Melis Apaydin adlı kullanıcı başarıyla kaydedildi.\n"
     ]
    }
   ],
   "source": [
    "kullanici.kayit_ol(\"Melis Apaydin\", \"5789\")"
   ]
  },
  {
   "cell_type": "markdown",
   "metadata": {},
   "source": [
    "# NOT İŞLEMLERİ"
   ]
  },
  {
   "cell_type": "code",
   "execution_count": 16,
   "metadata": {},
   "outputs": [],
   "source": [
    "notlar.not_ekle(\"Deneme Yazisi\", \"Bu icerik deneme amacli bir text olarak olusturuldu.\")"
   ]
  },
  {
   "cell_type": "code",
   "execution_count": 17,
   "metadata": {},
   "outputs": [],
   "source": [
    "notlar.not_ekle(\"Ikinci Deneme Yazisi\", \"Bu icerik ikinci deneme amacli bir text olarak olusturuldu.\")"
   ]
  },
  {
   "cell_type": "code",
   "execution_count": 19,
   "metadata": {},
   "outputs": [
    {
     "name": "stdout",
     "output_type": "stream",
     "text": [
      "ID: 1\n",
      "Deneme Yazisi: Bu icerik deneme amacli bir text olarak olusturuldu.\n",
      "\n",
      "ID: 2\n",
      "Ikinci Deneme Yazisi: Bu icerik ikinci deneme amacli bir text olarak olusturuldu.\n",
      "\n"
     ]
    }
   ],
   "source": [
    "notlar.notlari_listele()"
   ]
  }
 ],
 "metadata": {
  "kernelspec": {
   "display_name": "Python 3",
   "language": "python",
   "name": "python3"
  },
  "language_info": {
   "codemirror_mode": {
    "name": "ipython",
    "version": 3
   },
   "file_extension": ".py",
   "mimetype": "text/x-python",
   "name": "python",
   "nbconvert_exporter": "python",
   "pygments_lexer": "ipython3",
   "version": "3.11.6"
  }
 },
 "nbformat": 4,
 "nbformat_minor": 2
}
